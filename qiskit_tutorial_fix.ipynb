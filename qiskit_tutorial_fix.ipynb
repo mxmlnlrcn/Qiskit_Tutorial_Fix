{
 "cells": [
  {
   "cell_type": "code",
   "execution_count": null,
   "metadata": {},
   "outputs": [],
   "source": [
    "# Correction Qiskit Tutorial\n",
    "# Textbook: Learn Quantum Computation using Qiskit\n",
    "# Title: Grover's Algorithm\n",
    "# link: https://qiskit.org/textbook/ch-algorithms/grover.html#2.-Example:-2-Qubits-\n",
    "# Section: \"3.1 Qiskit Implementation\"\n",
    "# Capture: https://drive.google.com/file/d/13Di3TQ9PH_kta-Q4p6Vi8bdoXgIlNAMO/view?usp=sharing\n",
    "# Date: 13Th September 2022\n",
    "\n",
    "# Issue: When I try to implement the circuit I run into the next problem\n",
    "\n",
    "# ---------------------------------------------------------------------------\n",
    "# NameError                                 Traceback (most recent call last)\n",
    "# <ipython-input-30-e3ba7032658b> in <module>\n",
    "#      30 n = 3\n",
    "#      31 grover_circuit = QuantumCircuit(n)\n",
    "# ---> 32 grover_circuit = initialize_s(grover_circuit, [0,1,2])\n",
    "#      33 grover_circuit.append(oracle_ex3, [0,1,2])\n",
    "#      34 grover_circuit.append(diffuser(n), [0,1,2])\n",
    "\n",
    "# NameError: name 'initialize_s' is not defined"
   ]
  },
  {
   "cell_type": "markdown",
   "metadata": {},
   "source": [
    "# Following tutorial"
   ]
  },
  {
   "cell_type": "code",
   "execution_count": 30,
   "metadata": {},
   "outputs": [
    {
     "ename": "NameError",
     "evalue": "name 'initialize_s' is not defined",
     "output_type": "error",
     "traceback": [
      "\u001b[1;31m---------------------------------------------------------------------------\u001b[0m",
      "\u001b[1;31mNameError\u001b[0m                                 Traceback (most recent call last)",
      "\u001b[1;32m<ipython-input-30-e3ba7032658b>\u001b[0m in \u001b[0;36m<module>\u001b[1;34m\u001b[0m\n\u001b[0;32m     30\u001b[0m \u001b[0mn\u001b[0m \u001b[1;33m=\u001b[0m \u001b[1;36m3\u001b[0m\u001b[1;33m\u001b[0m\u001b[1;33m\u001b[0m\u001b[0m\n\u001b[0;32m     31\u001b[0m \u001b[0mgrover_circuit\u001b[0m \u001b[1;33m=\u001b[0m \u001b[0mQuantumCircuit\u001b[0m\u001b[1;33m(\u001b[0m\u001b[0mn\u001b[0m\u001b[1;33m)\u001b[0m\u001b[1;33m\u001b[0m\u001b[1;33m\u001b[0m\u001b[0m\n\u001b[1;32m---> 32\u001b[1;33m \u001b[0mgrover_circuit\u001b[0m \u001b[1;33m=\u001b[0m \u001b[0minitialize_s\u001b[0m\u001b[1;33m(\u001b[0m\u001b[0mgrover_circuit\u001b[0m\u001b[1;33m,\u001b[0m \u001b[1;33m[\u001b[0m\u001b[1;36m0\u001b[0m\u001b[1;33m,\u001b[0m\u001b[1;36m1\u001b[0m\u001b[1;33m,\u001b[0m\u001b[1;36m2\u001b[0m\u001b[1;33m]\u001b[0m\u001b[1;33m)\u001b[0m\u001b[1;33m\u001b[0m\u001b[1;33m\u001b[0m\u001b[0m\n\u001b[0m\u001b[0;32m     33\u001b[0m \u001b[0mgrover_circuit\u001b[0m\u001b[1;33m.\u001b[0m\u001b[0mappend\u001b[0m\u001b[1;33m(\u001b[0m\u001b[0moracle_ex3\u001b[0m\u001b[1;33m,\u001b[0m \u001b[1;33m[\u001b[0m\u001b[1;36m0\u001b[0m\u001b[1;33m,\u001b[0m\u001b[1;36m1\u001b[0m\u001b[1;33m,\u001b[0m\u001b[1;36m2\u001b[0m\u001b[1;33m]\u001b[0m\u001b[1;33m)\u001b[0m\u001b[1;33m\u001b[0m\u001b[1;33m\u001b[0m\u001b[0m\n\u001b[0;32m     34\u001b[0m \u001b[0mgrover_circuit\u001b[0m\u001b[1;33m.\u001b[0m\u001b[0mappend\u001b[0m\u001b[1;33m(\u001b[0m\u001b[0mdiffuser\u001b[0m\u001b[1;33m(\u001b[0m\u001b[0mn\u001b[0m\u001b[1;33m)\u001b[0m\u001b[1;33m,\u001b[0m \u001b[1;33m[\u001b[0m\u001b[1;36m0\u001b[0m\u001b[1;33m,\u001b[0m\u001b[1;36m1\u001b[0m\u001b[1;33m,\u001b[0m\u001b[1;36m2\u001b[0m\u001b[1;33m]\u001b[0m\u001b[1;33m)\u001b[0m\u001b[1;33m\u001b[0m\u001b[1;33m\u001b[0m\u001b[0m\n",
      "\u001b[1;31mNameError\u001b[0m: name 'initialize_s' is not defined"
     ]
    }
   ],
   "source": [
    "from qiskit import *\n",
    "\n",
    "qc = QuantumCircuit(3)\n",
    "qc.cz(0, 2)\n",
    "qc.cz(1, 2)\n",
    "oracle_ex3 = qc.to_gate()\n",
    "oracle_ex3.name = \"U$_\\omega$\"\n",
    "\n",
    "def diffuser(nqubits):\n",
    "    qc = QuantumCircuit(nqubits)\n",
    "    # Apply transformation |s> -> |00..0> (H-gates)\n",
    "    for qubit in range(nqubits):\n",
    "        qc.h(qubit)\n",
    "    # Apply transformation |00..0> -> |11..1> (X-gates)\n",
    "    for qubit in range(nqubits):\n",
    "        qc.x(qubit)\n",
    "    # Do multi-controlled-Z gate\n",
    "    qc.h(nqubits-1)\n",
    "    qc.mct(list(range(nqubits-1)), nqubits-1)  # multi-controlled-toffoli\n",
    "    qc.h(nqubits-1)\n",
    "    # Apply transformation |11..1> -> |00..0>\n",
    "    for qubit in range(nqubits):\n",
    "        qc.x(qubit)\n",
    "    # Apply transformation |00..0> -> |s>\n",
    "    for qubit in range(nqubits):\n",
    "        qc.h(qubit)\n",
    "    # We will return the diffuser as a gate\n",
    "    U_s = qc.to_gate()\n",
    "    U_s.name = \"U$_s$\"\n",
    "    return U_s\n",
    "\n",
    "n = 3\n",
    "grover_circuit = QuantumCircuit(n)\n",
    "grover_circuit = initialize_s(grover_circuit, [0,1,2])\n",
    "grover_circuit.append(oracle_ex3, [0,1,2])\n",
    "grover_circuit.append(diffuser(n), [0,1,2])\n",
    "grover_circuit.measure_all()\n",
    "grover_circuit.draw()"
   ]
  },
  {
   "cell_type": "markdown",
   "metadata": {},
   "source": [
    "# Request"
   ]
  },
  {
   "cell_type": "markdown",
   "metadata": {},
   "source": [
    "https://qiskit.org/textbook/ch-algorithms/images/grover_circuit_3qubits.png"
   ]
  },
  {
   "cell_type": "markdown",
   "metadata": {},
   "source": [
    "# Z=HXH"
   ]
  },
  {
   "cell_type": "code",
   "execution_count": 102,
   "metadata": {},
   "outputs": [
    {
     "data": {
      "text/html": [
       "<pre style=\"word-wrap: normal;white-space: pre;background: #fff0;line-height: 1.1;font-family: &quot;Courier New&quot;,Courier,monospace\">        ┌───┐        ┌───┐┌───┐┌───┐┌───┐┌───┐┌───┐┌───┐ ░ ┌─┐      \n",
       "   q_0: ┤ H ├─■───■──┤ H ├┤ X ├┤ H ├┤ X ├┤ H ├┤ X ├┤ H ├─░─┤M├──────\n",
       "        ├───┤ │   │  ├───┤├───┤└───┘└─┬─┘├───┤├───┤└───┘ ░ └╥┘┌─┐   \n",
       "   q_1: ┤ H ├─┼───■──┤ H ├┤ X ├───────■──┤ X ├┤ H ├──────░──╫─┤M├───\n",
       "        ├───┤ │ ┌───┐├───┤└───┘       │  ├───┤├───┤      ░  ║ └╥┘┌─┐\n",
       "   q_2: ┤ H ├─■─┤ H ├┤ X ├────────────■──┤ X ├┤ H ├──────░──╫──╫─┤M├\n",
       "        └───┘   └───┘└───┘               └───┘└───┘      ░  ║  ║ └╥┘\n",
       "meas: 3/════════════════════════════════════════════════════╩══╩══╩═\n",
       "                                                            0  1  2 </pre>"
      ],
      "text/plain": [
       "        ┌───┐        ┌───┐┌───┐┌───┐┌───┐┌───┐┌───┐┌───┐ ░ ┌─┐      \n",
       "   q_0: ┤ H ├─■───■──┤ H ├┤ X ├┤ H ├┤ X ├┤ H ├┤ X ├┤ H ├─░─┤M├──────\n",
       "        ├───┤ │   │  ├───┤├───┤└───┘└─┬─┘├───┤├───┤└───┘ ░ └╥┘┌─┐   \n",
       "   q_1: ┤ H ├─┼───■──┤ H ├┤ X ├───────■──┤ X ├┤ H ├──────░──╫─┤M├───\n",
       "        ├───┤ │ ┌───┐├───┤└───┘       │  ├───┤├───┤      ░  ║ └╥┘┌─┐\n",
       "   q_2: ┤ H ├─■─┤ H ├┤ X ├────────────■──┤ X ├┤ H ├──────░──╫──╫─┤M├\n",
       "        └───┘   └───┘└───┘               └───┘└───┘      ░  ║  ║ └╥┘\n",
       "meas: 3/════════════════════════════════════════════════════╩══╩══╩═\n",
       "                                                            0  1  2 "
      ]
     },
     "execution_count": 102,
     "metadata": {},
     "output_type": "execute_result"
    }
   ],
   "source": [
    "n = 3\n",
    "\n",
    "from qiskit.circuit.library import MCMTVChain\n",
    "\n",
    "qc = QuantumCircuit(n)\n",
    "qc.h(range(n-1, -1, -1))\n",
    "qc.cz(2,0)\n",
    "qc.cz(1,0)\n",
    "qc.h(range(n-1, -1, -1))\n",
    "qc.x(range(n-1, -1, -1))\n",
    "qc.h(0)  # H on target qubit\n",
    "qc.mcx([1,2], 0, mode='noancilla')\n",
    "qc.h(0)  # again H on target qubit\n",
    "qc.x(range(n-1, -1, -1))\n",
    "qc.h(range(n-1, -1, -1))\n",
    "qc.measure_all()\n",
    "qc.draw()"
   ]
  }
 ],
 "metadata": {
  "interpreter": {
   "hash": "2fb26068bd0d1e0f8e0cb0471b51822d32bcef174b6ed9ec0f79e5a512585ab8"
  },
  "kernelspec": {
   "display_name": "Python 3.9.5 64-bit",
   "language": "python",
   "name": "python3"
  },
  "language_info": {
   "codemirror_mode": {
    "name": "ipython",
    "version": 3
   },
   "file_extension": ".py",
   "mimetype": "text/x-python",
   "name": "python",
   "nbconvert_exporter": "python",
   "pygments_lexer": "ipython3",
   "version": "3.9.5"
  },
  "orig_nbformat": 4
 },
 "nbformat": 4,
 "nbformat_minor": 2
}
